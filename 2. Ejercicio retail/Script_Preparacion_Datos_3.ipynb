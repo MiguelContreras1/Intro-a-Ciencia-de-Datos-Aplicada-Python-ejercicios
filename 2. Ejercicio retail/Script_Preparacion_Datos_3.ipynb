{
 "cells": [
  {
   "cell_type": "markdown",
   "metadata": {},
   "source": [
    "![Banner-Introducci-n.png](https://i.postimg.cc/VkCcqsvv/Banner-Introducci-n.png)"
   ]
  },
  {
   "cell_type": "markdown",
   "metadata": {},
   "source": [
    "# Introducción a ciencia de datos\n",
    "## L3: Preparación básica de datos\n",
    "De acuerdo con el caso de uso del sector retail que se menciona en el PDF se va a desarrollar en los temas vistos en las infografías y videos anteriores, además utilice este notebook como guía para la solución de los problemas que se propongan en el caso de uso A\n"
   ]
  },
  {
   "cell_type": "markdown",
   "metadata": {},
   "source": [
    "### Objetivos\n",
    "1. Entender los diferentes tipos de datos que se presentan\n",
    "2. Identificar datos duplicados y nulos\n",
    "3. Realizar el análisis del tipo de dato en concordancia con la interpretación del lenguaje de programación\n"
   ]
  },
  {
   "cell_type": "markdown",
   "metadata": {},
   "source": [
    "**Autor:** David Ocampo"
   ]
  },
  {
   "cell_type": "markdown",
   "metadata": {},
   "source": [
    "### 1. Contexto del caso\n",
    "En este notebook se revisará los tipos de variables que se tienen para así poder realizar cálculos y análisis a partir de las variables"
   ]
  },
  {
   "cell_type": "markdown",
   "metadata": {},
   "source": [
    "### 2. Importación de librerías y archivos\n",
    "En las siguientes líneas de código se importaran los materiales de trabajo necesarios para desarrollar el caso de uso, en esto se incluyen las librerías y los datos"
   ]
  },
  {
   "cell_type": "code",
   "execution_count": 1,
   "metadata": {},
   "outputs": [],
   "source": [
    "# Importar las librerías necesarias según el análisis que se vaya a realizar\n",
    "# Librería para comando de sistema\n",
    "import os\n",
    "# Librería para manejo de datos\n",
    "import pandas as pd\n",
    "# Librería para manejo de fechas\n",
    "from datetime import date"
   ]
  },
  {
   "cell_type": "code",
   "execution_count": 3,
   "metadata": {},
   "outputs": [
    {
     "data": {
      "text/html": [
       "<div>\n",
       "<style scoped>\n",
       "    .dataframe tbody tr th:only-of-type {\n",
       "        vertical-align: middle;\n",
       "    }\n",
       "\n",
       "    .dataframe tbody tr th {\n",
       "        vertical-align: top;\n",
       "    }\n",
       "\n",
       "    .dataframe thead th {\n",
       "        text-align: right;\n",
       "    }\n",
       "</style>\n",
       "<table border=\"1\" class=\"dataframe\">\n",
       "  <thead>\n",
       "    <tr style=\"text-align: right;\">\n",
       "      <th></th>\n",
       "      <th>orden_id</th>\n",
       "      <th>order_item_id</th>\n",
       "      <th>producto_id</th>\n",
       "      <th>vendedor_id</th>\n",
       "      <th>fecha_envio_limite</th>\n",
       "      <th>precio</th>\n",
       "      <th>valor_flete</th>\n",
       "      <th>codigo_postal_vendedor</th>\n",
       "      <th>ciudad_vendedor</th>\n",
       "      <th>departamento_vendedor</th>\n",
       "      <th>nombre_categoria_producto</th>\n",
       "      <th>longitud_nombre_producto</th>\n",
       "      <th>longitud_descripcion_producto</th>\n",
       "      <th>cantidad_fotos_producto</th>\n",
       "      <th>peso_g_producto</th>\n",
       "      <th>longitud_cm_producto</th>\n",
       "      <th>altura_cm_producto</th>\n",
       "      <th>ancho_cm_producto</th>\n",
       "    </tr>\n",
       "  </thead>\n",
       "  <tbody>\n",
       "    <tr>\n",
       "      <th>0</th>\n",
       "      <td>107500PO59A</td>\n",
       "      <td>A</td>\n",
       "      <td>PO59</td>\n",
       "      <td>VE5389</td>\n",
       "      <td>7/04/2018 18:12</td>\n",
       "      <td>271.86</td>\n",
       "      <td>30.72</td>\n",
       "      <td>52435</td>\n",
       "      <td>Mallama</td>\n",
       "      <td>Nariño</td>\n",
       "      <td>Productos ecoamigables</td>\n",
       "      <td>6.0</td>\n",
       "      <td>7.0</td>\n",
       "      <td>27.0</td>\n",
       "      <td>2486.0</td>\n",
       "      <td>17.0</td>\n",
       "      <td>11.0</td>\n",
       "      <td>14.0</td>\n",
       "    </tr>\n",
       "    <tr>\n",
       "      <th>1</th>\n",
       "      <td>37493PS22B</td>\n",
       "      <td>B</td>\n",
       "      <td>PS22</td>\n",
       "      <td>VE1558</td>\n",
       "      <td>20/10/2017 9:07</td>\n",
       "      <td>115.73</td>\n",
       "      <td>4.68</td>\n",
       "      <td>52203</td>\n",
       "      <td>Colon</td>\n",
       "      <td>Nariño</td>\n",
       "      <td>Carnicería</td>\n",
       "      <td>10.0</td>\n",
       "      <td>31.0</td>\n",
       "      <td>20.0</td>\n",
       "      <td>256.0</td>\n",
       "      <td>43.0</td>\n",
       "      <td>2.0</td>\n",
       "      <td>21.0</td>\n",
       "    </tr>\n",
       "    <tr>\n",
       "      <th>2</th>\n",
       "      <td>28050PK20B</td>\n",
       "      <td>B</td>\n",
       "      <td>PK20</td>\n",
       "      <td>VE9159</td>\n",
       "      <td>17/08/2017 8:15</td>\n",
       "      <td>432.99</td>\n",
       "      <td>82.70</td>\n",
       "      <td>66001</td>\n",
       "      <td>Pereira</td>\n",
       "      <td>Risaralda</td>\n",
       "      <td>Deportes</td>\n",
       "      <td>25.0</td>\n",
       "      <td>5.0</td>\n",
       "      <td>4.0</td>\n",
       "      <td>5270.0</td>\n",
       "      <td>9.0</td>\n",
       "      <td>27.0</td>\n",
       "      <td>29.0</td>\n",
       "    </tr>\n",
       "    <tr>\n",
       "      <th>3</th>\n",
       "      <td>52187PA10A</td>\n",
       "      <td>A</td>\n",
       "      <td>PA10</td>\n",
       "      <td>VE3159</td>\n",
       "      <td>23/09/2017 23:27</td>\n",
       "      <td>108.38</td>\n",
       "      <td>35.39</td>\n",
       "      <td>52435</td>\n",
       "      <td>Mallama</td>\n",
       "      <td>Nariño</td>\n",
       "      <td>Electrodomésticos</td>\n",
       "      <td>10.0</td>\n",
       "      <td>1.0</td>\n",
       "      <td>6.0</td>\n",
       "      <td>734.0</td>\n",
       "      <td>46.0</td>\n",
       "      <td>48.0</td>\n",
       "      <td>22.0</td>\n",
       "    </tr>\n",
       "    <tr>\n",
       "      <th>4</th>\n",
       "      <td>84639PR12A</td>\n",
       "      <td>A</td>\n",
       "      <td>PR12</td>\n",
       "      <td>VE5090</td>\n",
       "      <td>7/01/2018 11:50</td>\n",
       "      <td>51.50</td>\n",
       "      <td>11.10</td>\n",
       "      <td>73001</td>\n",
       "      <td>Ibague</td>\n",
       "      <td>Tolima</td>\n",
       "      <td>Frutas y verduras</td>\n",
       "      <td>23.0</td>\n",
       "      <td>16.0</td>\n",
       "      <td>35.0</td>\n",
       "      <td>884.0</td>\n",
       "      <td>45.0</td>\n",
       "      <td>26.0</td>\n",
       "      <td>18.0</td>\n",
       "    </tr>\n",
       "  </tbody>\n",
       "</table>\n",
       "</div>"
      ],
      "text/plain": [
       "      orden_id order_item_id producto_id vendedor_id fecha_envio_limite  \\\n",
       "0  107500PO59A             A        PO59      VE5389    7/04/2018 18:12   \n",
       "1   37493PS22B             B        PS22      VE1558    20/10/2017 9:07   \n",
       "2   28050PK20B             B        PK20      VE9159    17/08/2017 8:15   \n",
       "3   52187PA10A             A        PA10      VE3159   23/09/2017 23:27   \n",
       "4   84639PR12A             A        PR12      VE5090    7/01/2018 11:50   \n",
       "\n",
       "   precio  valor_flete  codigo_postal_vendedor ciudad_vendedor  \\\n",
       "0  271.86        30.72                   52435         Mallama   \n",
       "1  115.73         4.68                   52203           Colon   \n",
       "2  432.99        82.70                   66001         Pereira   \n",
       "3  108.38        35.39                   52435         Mallama   \n",
       "4   51.50        11.10                   73001          Ibague   \n",
       "\n",
       "  departamento_vendedor nombre_categoria_producto  longitud_nombre_producto  \\\n",
       "0                Nariño    Productos ecoamigables                       6.0   \n",
       "1                Nariño                Carnicería                      10.0   \n",
       "2             Risaralda                  Deportes                      25.0   \n",
       "3                Nariño         Electrodomésticos                      10.0   \n",
       "4                Tolima         Frutas y verduras                      23.0   \n",
       "\n",
       "   longitud_descripcion_producto  cantidad_fotos_producto  peso_g_producto  \\\n",
       "0                            7.0                     27.0           2486.0   \n",
       "1                           31.0                     20.0            256.0   \n",
       "2                            5.0                      4.0           5270.0   \n",
       "3                            1.0                      6.0            734.0   \n",
       "4                           16.0                     35.0            884.0   \n",
       "\n",
       "   longitud_cm_producto  altura_cm_producto  ancho_cm_producto  \n",
       "0                  17.0                11.0               14.0  \n",
       "1                  43.0                 2.0               21.0  \n",
       "2                   9.0                27.0               29.0  \n",
       "3                  46.0                48.0               22.0  \n",
       "4                  45.0                26.0               18.0  "
      ]
     },
     "execution_count": 3,
     "metadata": {},
     "output_type": "execute_result"
    }
   ],
   "source": [
    "# Cargar los datos en csv\n",
    "data= pd.read_csv(r'C:\\Users\\Usuario\\Documents\\CIENCIA DE DATOS\\REPOSITORIO GITHUB\\INTRO A CIENCIA DE DATOS APLICADA ejercicios\\2. Ejercicio retail\\Ordenes_productos_C1_M2.3.csv', sep=';',encoding='latin-1')\n",
    "# Visualizar los datos\n",
    "data.head()"
   ]
  },
  {
   "cell_type": "markdown",
   "metadata": {},
   "source": [
    "### 3.Tipos de datos\n",
    "\n",
    "Los tipos de datos nos dan el lineamiento de qué tipo de análisis se puede realizar estos datos se pueden dividir en 2 categorías\n",
    "\n",
    "1. Datos categóricos:\n",
    "Los datos categóricos representan características. Por lo tanto, puede representar cosas como el género, el idioma, etc. de una persona. Los datos categóricos también pueden tomar valores numéricos (ejemplo: 1 para mujeres y 0 para hombres). Tenga en cuenta que esos números no tienen un significado matemático.\n",
    "\n",
    "2. Datos numéricos:\n",
    "Los datos numéricos son un tipo de datos expresados ​​en números, en lugar de una descripción en lenguaje natural. A veces llamados datos cuantitativos, los datos numéricos siempre se recopilan en forma de números. Los datos numéricos se diferencian de otros tipos de datos en forma de números por su capacidad para realizar operaciones aritméticas con estos números.\n"
   ]
  },
  {
   "cell_type": "code",
   "execution_count": 5,
   "metadata": {
    "scrolled": true
   },
   "outputs": [
    {
     "data": {
      "text/plain": [
       "orden_id                          object\n",
       "order_item_id                     object\n",
       "producto_id                       object\n",
       "vendedor_id                       object\n",
       "fecha_envio_limite                object\n",
       "precio                           float64\n",
       "valor_flete                      float64\n",
       "codigo_postal_vendedor             int64\n",
       "ciudad_vendedor                   object\n",
       "departamento_vendedor             object\n",
       "nombre_categoria_producto         object\n",
       "longitud_nombre_producto         float64\n",
       "longitud_descripcion_producto    float64\n",
       "cantidad_fotos_producto          float64\n",
       "peso_g_producto                  float64\n",
       "longitud_cm_producto             float64\n",
       "altura_cm_producto               float64\n",
       "ancho_cm_producto                float64\n",
       "dtype: object"
      ]
     },
     "execution_count": 5,
     "metadata": {},
     "output_type": "execute_result"
    }
   ],
   "source": [
    "# Revisar los tipos de datos del dataset\n",
    "data.dtypes"
   ]
  },
  {
   "cell_type": "markdown",
   "metadata": {},
   "source": [
    "Vemos que python presenta los datos, en este caso, como: object, float64 e int64 donde estos dos últimos se refieren a datos numéricos, y el otro tipo a datos categóricos.\n",
    "\n",
    "Sin embargo cabe resaltar que **codigo_postal_vendedor** que es un identificador de la orden lo está tomando como un dato numérico\n"
   ]
  },
  {
   "cell_type": "code",
   "execution_count": 7,
   "metadata": {
    "scrolled": true
   },
   "outputs": [
    {
     "data": {
      "text/plain": [
       "count    10134.000000\n",
       "mean     49991.684626\n",
       "std      22463.895340\n",
       "min       5001.000000\n",
       "25%      50001.000000\n",
       "50%      52323.000000\n",
       "75%      54003.000000\n",
       "max      99001.000000\n",
       "Name: codigo_postal_vendedor, dtype: float64"
      ]
     },
     "execution_count": 7,
     "metadata": {},
     "output_type": "execute_result"
    }
   ],
   "source": [
    "# Obtener estadísticas básica\n",
    "data['codigo_postal_vendedor'].describe()"
   ]
  },
  {
   "cell_type": "markdown",
   "metadata": {},
   "source": [
    "# ¡Cuidado con este error de interpretación!\n",
    "\n",
    "Al ser un dato de identificación es un dato categórico y no tiene ninguna interpretación describir las estadísticas descriptivas básicas"
   ]
  },
  {
   "cell_type": "code",
   "execution_count": 9,
   "metadata": {},
   "outputs": [
    {
     "data": {
      "text/plain": [
       "orden_id                          object\n",
       "order_item_id                     object\n",
       "producto_id                       object\n",
       "vendedor_id                       object\n",
       "fecha_envio_limite                object\n",
       "precio                           float64\n",
       "valor_flete                      float64\n",
       "codigo_postal_vendedor            object\n",
       "ciudad_vendedor                   object\n",
       "departamento_vendedor             object\n",
       "nombre_categoria_producto         object\n",
       "longitud_nombre_producto         float64\n",
       "longitud_descripcion_producto    float64\n",
       "cantidad_fotos_producto          float64\n",
       "peso_g_producto                  float64\n",
       "longitud_cm_producto             float64\n",
       "altura_cm_producto               float64\n",
       "ancho_cm_producto                float64\n",
       "dtype: object"
      ]
     },
     "execution_count": 9,
     "metadata": {},
     "output_type": "execute_result"
    }
   ],
   "source": [
    "# lo mejor es convertirlo en categórico\n",
    "data['codigo_postal_vendedor']=data['codigo_postal_vendedor'].astype(str)\n",
    "data.dtypes"
   ]
  },
  {
   "cell_type": "markdown",
   "metadata": {},
   "source": [
    "### 4. Datos nulos\n",
    "\n",
    "Los datos nulos son los registros que por cualquier razón no registran ningún dato, que por lo tanto van a generar un ruido o un sesgo (dependiendo del análisis) y que va a alterar el manejo de los datos para realizar análisis de alto nivel\n",
    "\n",
    "**Contexto:** No existen datos faltantes en la base, ya que si no están los datos de las órdenes no es posible encontrar cómo realizar el envío"
   ]
  },
  {
   "cell_type": "code",
   "execution_count": 11,
   "metadata": {},
   "outputs": [
    {
     "data": {
      "text/plain": [
       "orden_id                         0.00000\n",
       "order_item_id                    0.00000\n",
       "producto_id                      0.00000\n",
       "vendedor_id                      0.00000\n",
       "fecha_envio_limite               0.00000\n",
       "precio                           0.00000\n",
       "valor_flete                      0.00000\n",
       "codigo_postal_vendedor           0.00000\n",
       "ciudad_vendedor                  0.00000\n",
       "departamento_vendedor            0.00000\n",
       "nombre_categoria_producto        0.00227\n",
       "longitud_nombre_producto         0.00227\n",
       "longitud_descripcion_producto    0.00227\n",
       "cantidad_fotos_producto          0.00227\n",
       "peso_g_producto                  0.00227\n",
       "longitud_cm_producto             0.00227\n",
       "altura_cm_producto               0.00227\n",
       "ancho_cm_producto                0.00227\n",
       "dtype: float64"
      ]
     },
     "execution_count": 11,
     "metadata": {},
     "output_type": "execute_result"
    }
   ],
   "source": [
    "# Función para revisar nulos\n",
    "# Muestra variable por variable qué porcentaje de nulos se tienen\n",
    "data.isna().sum()/len(data)"
   ]
  },
  {
   "cell_type": "code",
   "execution_count": 13,
   "metadata": {},
   "outputs": [
    {
     "data": {
      "text/plain": [
       "(10134, 18)"
      ]
     },
     "execution_count": 13,
     "metadata": {},
     "output_type": "execute_result"
    }
   ],
   "source": [
    "data.shape"
   ]
  },
  {
   "cell_type": "markdown",
   "metadata": {},
   "source": [
    "Las variables involucradas apenas tienen data faltante menor al 1%, por lo tanto se debe decidir cuál criterio utilizar para la data faltante\n",
    "\n",
    "1. Métodos de eliminacion\n",
    "\n",
    "Los métodos de eliminación solo funcionan para determinados conjuntos de datos en los que a los participantes les faltan campos. Hay varios métodos de eliminación: dos comunes incluyen la eliminación por lista y la eliminación por pares. Significa eliminar cualquier participante o entrada de datos con valores perdidos. La eliminación por pares es el proceso de eliminar información cuando falta un punto de datos en particular, vital para las pruebas. La eliminación por pares guarda más datos en comparación con la eliminación similar porque la primera solo elimina las entradas donde las variables eran necesarias para la prueba, mientras que la última elimina las entradas completas si falta algún dato, independientemente de su importancia.\n",
    "\n",
    "2. Análisis de regresión\n",
    "\n",
    "La regresión es útil para manejar datos faltantes porque puede usarse para predecir el valor nulo usando otra información del conjunto de datos. Los métodos de regresión pueden tener éxito para encontrar los datos faltantes, pero esto depende en gran medida de qué tan bien conectados estén los datos restantes. \n",
    "\n",
    "3. Técnicas de imputación de datos\n",
    "\n",
    "La imputación promedio utiliza el valor promedio de las respuestas de otras entradas de datos para completar los valores faltantes. La imputación de punto comúnes cuando los datos utilizan el punto medio o el valor elegido con más frecuencia. \n",
    "\n",
    "4. Mantener los vacíos\n",
    "\n",
    "No podemos evitar situaciones como estas por completo porque hay varios pasos correctivos que los científicos de datos deben tomar para asegurarse de que no afecten negativamente el proceso de análisis. \n",
    "\n",
    "**Análisis:** En este caso al no contar con el nombre, categoría ni medidas del producto es necesario eliminar estos registros, así como la orden creada y hablar con los clientes para generar la devolución de su dinero"
   ]
  },
  {
   "cell_type": "code",
   "execution_count": 15,
   "metadata": {
    "scrolled": true
   },
   "outputs": [
    {
     "data": {
      "text/plain": [
       "(10111, 18)"
      ]
     },
     "execution_count": 15,
     "metadata": {},
     "output_type": "execute_result"
    }
   ],
   "source": [
    "# Eliminar los datos vacío\n",
    "data=data.dropna()\n",
    "data.shape"
   ]
  },
  {
   "cell_type": "markdown",
   "metadata": {},
   "source": [
    "### 4. Duplicados\n",
    "\n",
    "Identificar los datos (registros) que por alguna razón tienen columnas repetidas en todas las variables, es decir está generando data erronea ya que está mostrando datos que ya están en la base\n",
    "\n",
    "**Contexto:** Existen órdenes duplicadas para realizar los envíos"
   ]
  },
  {
   "cell_type": "code",
   "execution_count": 17,
   "metadata": {
    "scrolled": true
   },
   "outputs": [
    {
     "data": {
      "text/plain": [
       "0        False\n",
       "1        False\n",
       "2        False\n",
       "3        False\n",
       "4        False\n",
       "         ...  \n",
       "10129    False\n",
       "10130    False\n",
       "10131    False\n",
       "10132    False\n",
       "10133    False\n",
       "Length: 10111, dtype: bool"
      ]
     },
     "execution_count": 17,
     "metadata": {},
     "output_type": "execute_result"
    }
   ],
   "source": [
    "# Revisar cuáles registros están duplicados\n",
    "data.duplicated()"
   ]
  },
  {
   "cell_type": "code",
   "execution_count": 19,
   "metadata": {},
   "outputs": [
    {
     "data": {
      "text/html": [
       "<div>\n",
       "<style scoped>\n",
       "    .dataframe tbody tr th:only-of-type {\n",
       "        vertical-align: middle;\n",
       "    }\n",
       "\n",
       "    .dataframe tbody tr th {\n",
       "        vertical-align: top;\n",
       "    }\n",
       "\n",
       "    .dataframe thead th {\n",
       "        text-align: right;\n",
       "    }\n",
       "</style>\n",
       "<table border=\"1\" class=\"dataframe\">\n",
       "  <thead>\n",
       "    <tr style=\"text-align: right;\">\n",
       "      <th></th>\n",
       "      <th>orden_id</th>\n",
       "      <th>order_item_id</th>\n",
       "      <th>producto_id</th>\n",
       "      <th>vendedor_id</th>\n",
       "      <th>fecha_envio_limite</th>\n",
       "      <th>precio</th>\n",
       "      <th>valor_flete</th>\n",
       "      <th>codigo_postal_vendedor</th>\n",
       "      <th>ciudad_vendedor</th>\n",
       "      <th>departamento_vendedor</th>\n",
       "      <th>nombre_categoria_producto</th>\n",
       "      <th>longitud_nombre_producto</th>\n",
       "      <th>longitud_descripcion_producto</th>\n",
       "      <th>cantidad_fotos_producto</th>\n",
       "      <th>peso_g_producto</th>\n",
       "      <th>longitud_cm_producto</th>\n",
       "      <th>altura_cm_producto</th>\n",
       "      <th>ancho_cm_producto</th>\n",
       "    </tr>\n",
       "  </thead>\n",
       "  <tbody>\n",
       "    <tr>\n",
       "      <th>0</th>\n",
       "      <td>107500PO59A</td>\n",
       "      <td>A</td>\n",
       "      <td>PO59</td>\n",
       "      <td>VE5389</td>\n",
       "      <td>7/04/2018 18:12</td>\n",
       "      <td>271.86</td>\n",
       "      <td>30.72</td>\n",
       "      <td>52435</td>\n",
       "      <td>Mallama</td>\n",
       "      <td>Nariño</td>\n",
       "      <td>Productos ecoamigables</td>\n",
       "      <td>6.0</td>\n",
       "      <td>7.0</td>\n",
       "      <td>27.0</td>\n",
       "      <td>2486.0</td>\n",
       "      <td>17.0</td>\n",
       "      <td>11.0</td>\n",
       "      <td>14.0</td>\n",
       "    </tr>\n",
       "    <tr>\n",
       "      <th>1</th>\n",
       "      <td>37493PS22B</td>\n",
       "      <td>B</td>\n",
       "      <td>PS22</td>\n",
       "      <td>VE1558</td>\n",
       "      <td>20/10/2017 9:07</td>\n",
       "      <td>115.73</td>\n",
       "      <td>4.68</td>\n",
       "      <td>52203</td>\n",
       "      <td>Colon</td>\n",
       "      <td>Nariño</td>\n",
       "      <td>Carnicería</td>\n",
       "      <td>10.0</td>\n",
       "      <td>31.0</td>\n",
       "      <td>20.0</td>\n",
       "      <td>256.0</td>\n",
       "      <td>43.0</td>\n",
       "      <td>2.0</td>\n",
       "      <td>21.0</td>\n",
       "    </tr>\n",
       "    <tr>\n",
       "      <th>2</th>\n",
       "      <td>28050PK20B</td>\n",
       "      <td>B</td>\n",
       "      <td>PK20</td>\n",
       "      <td>VE9159</td>\n",
       "      <td>17/08/2017 8:15</td>\n",
       "      <td>432.99</td>\n",
       "      <td>82.70</td>\n",
       "      <td>66001</td>\n",
       "      <td>Pereira</td>\n",
       "      <td>Risaralda</td>\n",
       "      <td>Deportes</td>\n",
       "      <td>25.0</td>\n",
       "      <td>5.0</td>\n",
       "      <td>4.0</td>\n",
       "      <td>5270.0</td>\n",
       "      <td>9.0</td>\n",
       "      <td>27.0</td>\n",
       "      <td>29.0</td>\n",
       "    </tr>\n",
       "    <tr>\n",
       "      <th>3</th>\n",
       "      <td>52187PA10A</td>\n",
       "      <td>A</td>\n",
       "      <td>PA10</td>\n",
       "      <td>VE3159</td>\n",
       "      <td>23/09/2017 23:27</td>\n",
       "      <td>108.38</td>\n",
       "      <td>35.39</td>\n",
       "      <td>52435</td>\n",
       "      <td>Mallama</td>\n",
       "      <td>Nariño</td>\n",
       "      <td>Electrodomésticos</td>\n",
       "      <td>10.0</td>\n",
       "      <td>1.0</td>\n",
       "      <td>6.0</td>\n",
       "      <td>734.0</td>\n",
       "      <td>46.0</td>\n",
       "      <td>48.0</td>\n",
       "      <td>22.0</td>\n",
       "    </tr>\n",
       "    <tr>\n",
       "      <th>4</th>\n",
       "      <td>84639PR12A</td>\n",
       "      <td>A</td>\n",
       "      <td>PR12</td>\n",
       "      <td>VE5090</td>\n",
       "      <td>7/01/2018 11:50</td>\n",
       "      <td>51.50</td>\n",
       "      <td>11.10</td>\n",
       "      <td>73001</td>\n",
       "      <td>Ibague</td>\n",
       "      <td>Tolima</td>\n",
       "      <td>Frutas y verduras</td>\n",
       "      <td>23.0</td>\n",
       "      <td>16.0</td>\n",
       "      <td>35.0</td>\n",
       "      <td>884.0</td>\n",
       "      <td>45.0</td>\n",
       "      <td>26.0</td>\n",
       "      <td>18.0</td>\n",
       "    </tr>\n",
       "  </tbody>\n",
       "</table>\n",
       "</div>"
      ],
      "text/plain": [
       "      orden_id order_item_id producto_id vendedor_id fecha_envio_limite  \\\n",
       "0  107500PO59A             A        PO59      VE5389    7/04/2018 18:12   \n",
       "1   37493PS22B             B        PS22      VE1558    20/10/2017 9:07   \n",
       "2   28050PK20B             B        PK20      VE9159    17/08/2017 8:15   \n",
       "3   52187PA10A             A        PA10      VE3159   23/09/2017 23:27   \n",
       "4   84639PR12A             A        PR12      VE5090    7/01/2018 11:50   \n",
       "\n",
       "   precio  valor_flete codigo_postal_vendedor ciudad_vendedor  \\\n",
       "0  271.86        30.72                  52435         Mallama   \n",
       "1  115.73         4.68                  52203           Colon   \n",
       "2  432.99        82.70                  66001         Pereira   \n",
       "3  108.38        35.39                  52435         Mallama   \n",
       "4   51.50        11.10                  73001          Ibague   \n",
       "\n",
       "  departamento_vendedor nombre_categoria_producto  longitud_nombre_producto  \\\n",
       "0                Nariño    Productos ecoamigables                       6.0   \n",
       "1                Nariño                Carnicería                      10.0   \n",
       "2             Risaralda                  Deportes                      25.0   \n",
       "3                Nariño         Electrodomésticos                      10.0   \n",
       "4                Tolima         Frutas y verduras                      23.0   \n",
       "\n",
       "   longitud_descripcion_producto  cantidad_fotos_producto  peso_g_producto  \\\n",
       "0                            7.0                     27.0           2486.0   \n",
       "1                           31.0                     20.0            256.0   \n",
       "2                            5.0                      4.0           5270.0   \n",
       "3                            1.0                      6.0            734.0   \n",
       "4                           16.0                     35.0            884.0   \n",
       "\n",
       "   longitud_cm_producto  altura_cm_producto  ancho_cm_producto  \n",
       "0                  17.0                11.0               14.0  \n",
       "1                  43.0                 2.0               21.0  \n",
       "2                   9.0                27.0               29.0  \n",
       "3                  46.0                48.0               22.0  \n",
       "4                  45.0                26.0               18.0  "
      ]
     },
     "execution_count": 19,
     "metadata": {},
     "output_type": "execute_result"
    }
   ],
   "source": [
    "# Establecer un método para eliminar duplicados\n",
    "data=data.drop_duplicates()\n",
    "data.head(5)"
   ]
  },
  {
   "cell_type": "code",
   "execution_count": 21,
   "metadata": {
    "scrolled": true
   },
   "outputs": [
    {
     "data": {
      "text/plain": [
       "0"
      ]
     },
     "execution_count": 21,
     "metadata": {},
     "output_type": "execute_result"
    }
   ],
   "source": [
    "# Mostrar la totalidad de datos duplicados, la función .sum() muestra la suma de registros\n",
    "data.duplicated().sum()"
   ]
  },
  {
   "cell_type": "markdown",
   "metadata": {},
   "source": [
    "**Análisis:** No existen órdenes duplicadas"
   ]
  },
  {
   "cell_type": "markdown",
   "metadata": {},
   "source": [
    "### 5. Elegir el formato\n",
    "Cuando se trabaja con datos es posible encontrarse con diferentes tipos de datos y es muy importante encontrar el tipo de dato correcto, es decir, saber si se trabaja con reales, con enteros, categorías, fechas, etc...\n",
    "\n",
    "**Hipótesis:** Es posible realizar el cálculo de la fecha de envío hasta hoy"
   ]
  },
  {
   "cell_type": "code",
   "execution_count": 23,
   "metadata": {},
   "outputs": [
    {
     "data": {
      "text/plain": [
       "Timestamp('2025-04-09 21:17:28.020684')"
      ]
     },
     "execution_count": 23,
     "metadata": {},
     "output_type": "execute_result"
    }
   ],
   "source": [
    "# Arreglo de datos\n",
    "# Se trata de restar dos fechas\n",
    "hoy = pd.to_datetime(\"now\")\n",
    "hoy\n"
   ]
  },
  {
   "cell_type": "code",
   "execution_count": 25,
   "metadata": {},
   "outputs": [
    {
     "data": {
      "text/plain": [
       "0         7/04/2018 18:12\n",
       "1         20/10/2017 9:07\n",
       "2         17/08/2017 8:15\n",
       "3        23/09/2017 23:27\n",
       "4         7/01/2018 11:50\n",
       "               ...       \n",
       "10129     1/04/2018 11:38\n",
       "10130    21/10/2017 17:09\n",
       "10131     10/10/2017 8:37\n",
       "10132     13/11/2017 3:20\n",
       "10133    26/12/2017 19:34\n",
       "Name: fecha_envio_limite, Length: 10111, dtype: object"
      ]
     },
     "execution_count": 25,
     "metadata": {},
     "output_type": "execute_result"
    }
   ],
   "source": [
    "# Restar los días que hay entre hoy y la fecha de pedido\n",
    "data['fecha_envio_limite']"
   ]
  },
  {
   "cell_type": "code",
   "execution_count": 27,
   "metadata": {},
   "outputs": [
    {
     "ename": "TypeError",
     "evalue": "unsupported operand type(s) for -: 'numpy.ndarray' and 'Timestamp'",
     "output_type": "error",
     "traceback": [
      "\u001b[1;31m---------------------------------------------------------------------------\u001b[0m",
      "\u001b[1;31mTypeError\u001b[0m                                 Traceback (most recent call last)",
      "Cell \u001b[1;32mIn[27], line 1\u001b[0m\n\u001b[1;32m----> 1\u001b[0m data[\u001b[38;5;124m'\u001b[39m\u001b[38;5;124mfecha_envio_limite\u001b[39m\u001b[38;5;124m'\u001b[39m]\u001b[38;5;241m-\u001b[39mhoy\n",
      "File \u001b[1;32m~\\anaconda3\\Lib\\site-packages\\pandas\\core\\ops\\common.py:76\u001b[0m, in \u001b[0;36m_unpack_zerodim_and_defer.<locals>.new_method\u001b[1;34m(self, other)\u001b[0m\n\u001b[0;32m     72\u001b[0m             \u001b[38;5;28;01mreturn\u001b[39;00m \u001b[38;5;28mNotImplemented\u001b[39m\n\u001b[0;32m     74\u001b[0m other \u001b[38;5;241m=\u001b[39m item_from_zerodim(other)\n\u001b[1;32m---> 76\u001b[0m \u001b[38;5;28;01mreturn\u001b[39;00m method(\u001b[38;5;28mself\u001b[39m, other)\n",
      "File \u001b[1;32m~\\anaconda3\\Lib\\site-packages\\pandas\\core\\arraylike.py:194\u001b[0m, in \u001b[0;36mOpsMixin.__sub__\u001b[1;34m(self, other)\u001b[0m\n\u001b[0;32m    192\u001b[0m \u001b[38;5;129m@unpack_zerodim_and_defer\u001b[39m(\u001b[38;5;124m\"\u001b[39m\u001b[38;5;124m__sub__\u001b[39m\u001b[38;5;124m\"\u001b[39m)\n\u001b[0;32m    193\u001b[0m \u001b[38;5;28;01mdef\u001b[39;00m \u001b[38;5;21m__sub__\u001b[39m(\u001b[38;5;28mself\u001b[39m, other):\n\u001b[1;32m--> 194\u001b[0m     \u001b[38;5;28;01mreturn\u001b[39;00m \u001b[38;5;28mself\u001b[39m\u001b[38;5;241m.\u001b[39m_arith_method(other, operator\u001b[38;5;241m.\u001b[39msub)\n",
      "File \u001b[1;32m~\\anaconda3\\Lib\\site-packages\\pandas\\core\\series.py:6135\u001b[0m, in \u001b[0;36mSeries._arith_method\u001b[1;34m(self, other, op)\u001b[0m\n\u001b[0;32m   6133\u001b[0m \u001b[38;5;28;01mdef\u001b[39;00m \u001b[38;5;21m_arith_method\u001b[39m(\u001b[38;5;28mself\u001b[39m, other, op):\n\u001b[0;32m   6134\u001b[0m     \u001b[38;5;28mself\u001b[39m, other \u001b[38;5;241m=\u001b[39m \u001b[38;5;28mself\u001b[39m\u001b[38;5;241m.\u001b[39m_align_for_op(other)\n\u001b[1;32m-> 6135\u001b[0m     \u001b[38;5;28;01mreturn\u001b[39;00m base\u001b[38;5;241m.\u001b[39mIndexOpsMixin\u001b[38;5;241m.\u001b[39m_arith_method(\u001b[38;5;28mself\u001b[39m, other, op)\n",
      "File \u001b[1;32m~\\anaconda3\\Lib\\site-packages\\pandas\\core\\base.py:1382\u001b[0m, in \u001b[0;36mIndexOpsMixin._arith_method\u001b[1;34m(self, other, op)\u001b[0m\n\u001b[0;32m   1379\u001b[0m     rvalues \u001b[38;5;241m=\u001b[39m np\u001b[38;5;241m.\u001b[39marange(rvalues\u001b[38;5;241m.\u001b[39mstart, rvalues\u001b[38;5;241m.\u001b[39mstop, rvalues\u001b[38;5;241m.\u001b[39mstep)\n\u001b[0;32m   1381\u001b[0m \u001b[38;5;28;01mwith\u001b[39;00m np\u001b[38;5;241m.\u001b[39merrstate(\u001b[38;5;28mall\u001b[39m\u001b[38;5;241m=\u001b[39m\u001b[38;5;124m\"\u001b[39m\u001b[38;5;124mignore\u001b[39m\u001b[38;5;124m\"\u001b[39m):\n\u001b[1;32m-> 1382\u001b[0m     result \u001b[38;5;241m=\u001b[39m ops\u001b[38;5;241m.\u001b[39marithmetic_op(lvalues, rvalues, op)\n\u001b[0;32m   1384\u001b[0m \u001b[38;5;28;01mreturn\u001b[39;00m \u001b[38;5;28mself\u001b[39m\u001b[38;5;241m.\u001b[39m_construct_result(result, name\u001b[38;5;241m=\u001b[39mres_name)\n",
      "File \u001b[1;32m~\\anaconda3\\Lib\\site-packages\\pandas\\core\\ops\\array_ops.py:273\u001b[0m, in \u001b[0;36marithmetic_op\u001b[1;34m(left, right, op)\u001b[0m\n\u001b[0;32m    260\u001b[0m \u001b[38;5;66;03m# NB: We assume that extract_array and ensure_wrapped_if_datetimelike\u001b[39;00m\n\u001b[0;32m    261\u001b[0m \u001b[38;5;66;03m#  have already been called on `left` and `right`,\u001b[39;00m\n\u001b[0;32m    262\u001b[0m \u001b[38;5;66;03m#  and `maybe_prepare_scalar_for_op` has already been called on `right`\u001b[39;00m\n\u001b[0;32m    263\u001b[0m \u001b[38;5;66;03m# We need to special-case datetime64/timedelta64 dtypes (e.g. because numpy\u001b[39;00m\n\u001b[0;32m    264\u001b[0m \u001b[38;5;66;03m# casts integer dtypes to timedelta64 when operating with timedelta64 - GH#22390)\u001b[39;00m\n\u001b[0;32m    266\u001b[0m \u001b[38;5;28;01mif\u001b[39;00m (\n\u001b[0;32m    267\u001b[0m     should_extension_dispatch(left, right)\n\u001b[0;32m    268\u001b[0m     \u001b[38;5;129;01mor\u001b[39;00m \u001b[38;5;28misinstance\u001b[39m(right, (Timedelta, BaseOffset, Timestamp))\n\u001b[1;32m   (...)\u001b[0m\n\u001b[0;32m    271\u001b[0m     \u001b[38;5;66;03m# Timedelta/Timestamp and other custom scalars are included in the check\u001b[39;00m\n\u001b[0;32m    272\u001b[0m     \u001b[38;5;66;03m# because numexpr will fail on it, see GH#31457\u001b[39;00m\n\u001b[1;32m--> 273\u001b[0m     res_values \u001b[38;5;241m=\u001b[39m op(left, right)\n\u001b[0;32m    274\u001b[0m \u001b[38;5;28;01melse\u001b[39;00m:\n\u001b[0;32m    275\u001b[0m     \u001b[38;5;66;03m# TODO we should handle EAs consistently and move this check before the if/else\u001b[39;00m\n\u001b[0;32m    276\u001b[0m     \u001b[38;5;66;03m# (https://github.com/pandas-dev/pandas/issues/41165)\u001b[39;00m\n\u001b[0;32m    277\u001b[0m     \u001b[38;5;66;03m# error: Argument 2 to \"_bool_arith_check\" has incompatible type\u001b[39;00m\n\u001b[0;32m    278\u001b[0m     \u001b[38;5;66;03m# \"Union[ExtensionArray, ndarray[Any, Any]]\"; expected \"ndarray[Any, Any]\"\u001b[39;00m\n\u001b[0;32m    279\u001b[0m     _bool_arith_check(op, left, right)  \u001b[38;5;66;03m# type: ignore[arg-type]\u001b[39;00m\n",
      "\u001b[1;31mTypeError\u001b[0m: unsupported operand type(s) for -: 'numpy.ndarray' and 'Timestamp'"
     ]
    }
   ],
   "source": [
    "data['fecha_envio_limite']-hoy"
   ]
  },
  {
   "cell_type": "markdown",
   "metadata": {},
   "source": [
    "# ¡Cuidado con el error, hay que revisar qué formato se está utlizando!"
   ]
  },
  {
   "cell_type": "code",
   "execution_count": 29,
   "metadata": {
    "scrolled": true
   },
   "outputs": [
    {
     "data": {
      "text/plain": [
       "fecha_envio_limite    object\n",
       "dtype: object"
      ]
     },
     "execution_count": 29,
     "metadata": {},
     "output_type": "execute_result"
    }
   ],
   "source": [
    "# Revisar el tipo de dato que es la columnda de fechas\n",
    "data[['fecha_envio_limite']].dtypes"
   ]
  },
  {
   "cell_type": "code",
   "execution_count": 41,
   "metadata": {},
   "outputs": [],
   "source": [
    "# Cambiar el tipo de dato\n",
    "# El tipo de dato de fecha para el lenguaje de programación es un texto, por lo tanto,\n",
    "# no se pueden realizar operaciones de ninguna, es necesario cambiar el tipo de dato\n",
    "data['fecha_envio_limite'] = pd.to_datetime(data['fecha_envio_limite'], format=\"%d/%m/%Y %H:%M\")"
   ]
  },
  {
   "cell_type": "code",
   "execution_count": 43,
   "metadata": {},
   "outputs": [
    {
     "data": {
      "text/plain": [
       "fecha_envio_limite    datetime64[ns]\n",
       "dtype: object"
      ]
     },
     "execution_count": 43,
     "metadata": {},
     "output_type": "execute_result"
    }
   ],
   "source": [
    "# Revisar que el tipo de dato es de fecha\n",
    "data[['fecha_envio_limite']].dtypes"
   ]
  },
  {
   "cell_type": "code",
   "execution_count": 45,
   "metadata": {
    "scrolled": true
   },
   "outputs": [
    {
     "data": {
      "text/plain": [
       "0       2559 days 03:05:28.020684\n",
       "1       2728 days 12:10:28.020684\n",
       "2       2792 days 13:02:28.020684\n",
       "3       2754 days 21:50:28.020684\n",
       "4       2649 days 09:27:28.020684\n",
       "                   ...           \n",
       "10129   2565 days 09:39:28.020684\n",
       "10130   2727 days 04:08:28.020684\n",
       "10131   2738 days 12:40:28.020684\n",
       "10132   2704 days 17:57:28.020684\n",
       "10133   2661 days 01:43:28.020684\n",
       "Name: fecha_envio_limite, Length: 10111, dtype: timedelta64[ns]"
      ]
     },
     "execution_count": 45,
     "metadata": {},
     "output_type": "execute_result"
    }
   ],
   "source": [
    "# Hacer operaciones con el tipo de dato correcto\n",
    "# como ya la columna es el tipo de dato correcto se puede hacer la resta para obtener los días\n",
    "hoy-data['fecha_envio_limite']"
   ]
  },
  {
   "cell_type": "markdown",
   "metadata": {},
   "source": [
    "**Análisis:** Es posible realizar el cálculo de la fecha hasta hoy, sin embargo, es muy importante tener en cuenta el tipo de dato que se está operando"
   ]
  },
  {
   "cell_type": "markdown",
   "metadata": {},
   "source": [
    "![Banner-Introducci-n.png](https://i.postimg.cc/VkCcqsvv/Banner-Introducci-n.png)"
   ]
  }
 ],
 "metadata": {
  "kernelspec": {
   "display_name": "Python 3 (ipykernel)",
   "language": "python",
   "name": "python3"
  },
  "language_info": {
   "codemirror_mode": {
    "name": "ipython",
    "version": 3
   },
   "file_extension": ".py",
   "mimetype": "text/x-python",
   "name": "python",
   "nbconvert_exporter": "python",
   "pygments_lexer": "ipython3",
   "version": "3.12.4"
  }
 },
 "nbformat": 4,
 "nbformat_minor": 4
}
